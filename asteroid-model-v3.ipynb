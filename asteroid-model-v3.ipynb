{
 "cells": [
  {
   "cell_type": "code",
   "execution_count": 27,
   "metadata": {},
   "outputs": [],
   "source": [
    "import pandas as pd \n",
    "import numpy as np\n",
    "from sklearn.tree import DecisionTreeClassifier\n",
    "from sklearn.model_selection import train_test_split\n",
    "from sklearn import metrics"
   ]
  },
  {
   "cell_type": "code",
   "execution_count": 28,
   "metadata": {},
   "outputs": [],
   "source": [
    "file=pd.read_csv('nasa.csv')"
   ]
  },
  {
   "cell_type": "code",
   "execution_count": 29,
   "metadata": {},
   "outputs": [],
   "source": [
    "input=file[['Neo Reference ID', 'Name', 'Absolute Magnitude', 'Est Dia in KM(min)',\n",
    "       'Est Dia in KM(max)', 'Est Dia in M(min)', 'Est Dia in M(max)',\n",
    "       'Est Dia in Miles(min)', 'Est Dia in Miles(max)',\n",
    "       'Est Dia in Feet(min)', 'Est Dia in Feet(max)', \n",
    "       'Epoch Date Close Approach', 'Relative Velocity km per sec',\n",
    "       'Relative Velocity km per hr', 'Miles per hour',\n",
    "       'Miss Dist.(Astronomical)', 'Miss Dist.(lunar)',\n",
    "       'Miss Dist.(kilometers)', 'Miss Dist.(miles)',\n",
    "       'Orbit ID', 'Orbit Uncertainity',\n",
    "       'Minimum Orbit Intersection', 'Jupiter Tisserand Invariant',\n",
    "       'Epoch Osculation', 'Eccentricity', 'Semi Major Axis', 'Inclination',\n",
    "       'Asc Node Longitude', 'Orbital Period', 'Perihelion Distance',\n",
    "       'Perihelion Arg', 'Aphelion Dist', 'Perihelion Time', 'Mean Anomaly',\n",
    "       'Mean Motion']] #everying but strings\n",
    "output=file[\"Hazardous\"]"
   ]
  },
  {
   "cell_type": "code",
   "execution_count": 30,
   "metadata": {},
   "outputs": [],
   "source": [
    "i=input.to_numpy()\n",
    "o=output.to_numpy()"
   ]
  },
  {
   "cell_type": "code",
   "execution_count": 31,
   "metadata": {},
   "outputs": [
    {
     "name": "stdout",
     "output_type": "stream",
     "text": [
      "0.9925373134328358\n"
     ]
    }
   ],
   "source": [
    "i_train, i_test, o_train, o_test =train_test_split(i, o, test_size=0.2, random_state=26)\n",
    "\n",
    "clf=DecisionTreeClassifier()\n",
    "\n",
    "clf=clf.fit(i_train, o_train)\n",
    "\n",
    "mlpredictions= clf.predict(i_test)\n",
    "accuracy=metrics.accuracy_score(o_test, mlpredictions)\n",
    "print(accuracy)"
   ]
  }
 ],
 "metadata": {
  "kernelspec": {
   "display_name": "Python 3",
   "language": "python",
   "name": "python3"
  },
  "language_info": {
   "codemirror_mode": {
    "name": "ipython",
    "version": 3
   },
   "file_extension": ".py",
   "mimetype": "text/x-python",
   "name": "python",
   "nbconvert_exporter": "python",
   "pygments_lexer": "ipython3",
   "version": "3.12.3"
  }
 },
 "nbformat": 4,
 "nbformat_minor": 2
}
